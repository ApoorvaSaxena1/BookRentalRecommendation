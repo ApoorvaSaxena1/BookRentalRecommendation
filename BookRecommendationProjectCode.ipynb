{
 "cells": [
  {
   "cell_type": "code",
   "execution_count": 39,
   "metadata": {},
   "outputs": [],
   "source": [
    "import numpy as np\n",
    "import pandas as pd\n",
    "import matplotlib.pyplot as plt\n",
    "from matplotlib.pyplot import figure\n",
    "%matplotlib inline   \n",
    "\n",
    "import seaborn as sns\n",
    "sns.set(style=\"white\", color_codes=True)\n",
    "sns.set(font_scale=1.5)\n",
    "\n",
    "# import libraries for model validation\n",
    "from sklearn.linear_model import LogisticRegression\n",
    "from sklearn.model_selection import train_test_split\n",
    "from sklearn import metrics\n"
   ]
  },
  {
   "cell_type": "code",
   "execution_count": 40,
   "metadata": {},
   "outputs": [
    {
     "name": "stdout",
     "output_type": "stream",
     "text": [
      "isbn                   object\n",
      "book_title             object\n",
      "book_author            object\n",
      "year_of_publication    object\n",
      "publisher              object\n",
      "dtype: object\n",
      "(271379, 5)\n"
     ]
    },
    {
     "name": "stderr",
     "output_type": "stream",
     "text": [
      "/usr/local/lib/python3.7/site-packages/IPython/core/interactiveshell.py:3063: DtypeWarning: Columns (3) have mixed types.Specify dtype option on import or set low_memory=False.\n",
      "  interactivity=interactivity, compiler=compiler, result=result)\n"
     ]
    },
    {
     "data": {
      "text/html": [
       "<div>\n",
       "<style scoped>\n",
       "    .dataframe tbody tr th:only-of-type {\n",
       "        vertical-align: middle;\n",
       "    }\n",
       "\n",
       "    .dataframe tbody tr th {\n",
       "        vertical-align: top;\n",
       "    }\n",
       "\n",
       "    .dataframe thead th {\n",
       "        text-align: right;\n",
       "    }\n",
       "</style>\n",
       "<table border=\"1\" class=\"dataframe\">\n",
       "  <thead>\n",
       "    <tr style=\"text-align: right;\">\n",
       "      <th></th>\n",
       "      <th>isbn</th>\n",
       "      <th>book_title</th>\n",
       "      <th>book_author</th>\n",
       "      <th>year_of_publication</th>\n",
       "      <th>publisher</th>\n",
       "    </tr>\n",
       "  </thead>\n",
       "  <tbody>\n",
       "    <tr>\n",
       "      <th>0</th>\n",
       "      <td>195153448</td>\n",
       "      <td>Classical Mythology</td>\n",
       "      <td>Mark P. O. Morford</td>\n",
       "      <td>2002</td>\n",
       "      <td>Oxford University Press</td>\n",
       "    </tr>\n",
       "    <tr>\n",
       "      <th>1</th>\n",
       "      <td>2005018</td>\n",
       "      <td>Clara Callan</td>\n",
       "      <td>Richard Bruce Wright</td>\n",
       "      <td>2001</td>\n",
       "      <td>HarperFlamingo Canada</td>\n",
       "    </tr>\n",
       "    <tr>\n",
       "      <th>2</th>\n",
       "      <td>60973129</td>\n",
       "      <td>Decision in Normandy</td>\n",
       "      <td>Carlo D'Este</td>\n",
       "      <td>1991</td>\n",
       "      <td>HarperPerennial</td>\n",
       "    </tr>\n",
       "    <tr>\n",
       "      <th>3</th>\n",
       "      <td>374157065</td>\n",
       "      <td>Flu: The Story of the Great Influenza Pandemic...</td>\n",
       "      <td>Gina Bari Kolata</td>\n",
       "      <td>1999</td>\n",
       "      <td>Farrar Straus Giroux</td>\n",
       "    </tr>\n",
       "    <tr>\n",
       "      <th>4</th>\n",
       "      <td>393045218</td>\n",
       "      <td>The Mummies of Urumchi</td>\n",
       "      <td>E. J. W. Barber</td>\n",
       "      <td>1999</td>\n",
       "      <td>W. W. Norton &amp;amp; Company</td>\n",
       "    </tr>\n",
       "  </tbody>\n",
       "</table>\n",
       "</div>"
      ],
      "text/plain": [
       "        isbn                                         book_title  \\\n",
       "0  195153448                                Classical Mythology   \n",
       "1    2005018                                       Clara Callan   \n",
       "2   60973129                               Decision in Normandy   \n",
       "3  374157065  Flu: The Story of the Great Influenza Pandemic...   \n",
       "4  393045218                             The Mummies of Urumchi   \n",
       "\n",
       "            book_author year_of_publication                   publisher  \n",
       "0    Mark P. O. Morford                2002     Oxford University Press  \n",
       "1  Richard Bruce Wright                2001       HarperFlamingo Canada  \n",
       "2          Carlo D'Este                1991             HarperPerennial  \n",
       "3      Gina Bari Kolata                1999        Farrar Straus Giroux  \n",
       "4       E. J. W. Barber                1999  W. W. Norton &amp; Company  "
      ]
     },
     "execution_count": 40,
     "metadata": {},
     "output_type": "execute_result"
    }
   ],
   "source": [
    "# 1.Read the books dataset and explore it\n",
    "# Import the dataset with correct encoding\n",
    "books = pd.read_csv(\"BX-Books.csv\", encoding='iso-8859-1')\n",
    "\n",
    "# Print the columns of the DataFrame\n",
    "print(books.dtypes)\n",
    "\n",
    "# Identify the shape of the dataset\n",
    "print(books.shape)\n",
    "\n",
    "# Visualize the dataset\n",
    "books.head()"
   ]
  },
  {
   "cell_type": "code",
   "execution_count": 41,
   "metadata": {},
   "outputs": [
    {
     "name": "stdout",
     "output_type": "stream",
     "text": [
      "Non-numeric year : John Peterman\n",
      "Non-numeric year : \\\"Freedom Song\\\"\"\n",
      "Non-numeric year : Frank Muir\n",
      "Non-numeric year : ROBERT A. WILSON\n",
      "Non-numeric year : Karen T. Whittenburg\n",
      "Non-numeric year : George H. Scherr\n",
      "Non-numeric year : Salvador de Madariaga\n",
      "Non-numeric year : K.C. Constantine\n",
      "Non-numeric year : Stan Berenstain\n",
      "Non-numeric year : Francine Pascal\n",
      "Non-numeric year : Luella Hill\n",
      "Non-numeric year : John Alderson Foote\n",
      "Non-numeric year : DK Publishing Inc\n",
      "Non-numeric year : Jules Janin\n",
      "Non-numeric year : Gallimard\n",
      "Non-numeric year : DK Publishing Inc\n",
      "Non-numeric year :  &amp\n",
      "Non-numeric year :  Learning\"\n",
      "Non-numeric year : Isadora Duncan\n",
      "Non-numeric year : Beatrix Potter\n",
      "Non-numeric year : Bart Rulon\n",
      "Non-numeric year : Alan Rich\n"
     ]
    }
   ],
   "source": [
    "# Remove non-numeric instances in year_of_publication column\n",
    "def editYear(year):\n",
    "    outputStr = year\n",
    "    if not str(year).isdigit():\n",
    "        print('Non-numeric year : ' + year)\n",
    "        outputStr = 0\n",
    "            \n",
    "    return outputStr\n",
    "\n",
    "books['year_of_publication'] = books['year_of_publication'].apply(editYear)\n",
    "books['year_of_publication'] = pd.to_numeric(books['year_of_publication'])"
   ]
  },
  {
   "cell_type": "code",
   "execution_count": 42,
   "metadata": {},
   "outputs": [
    {
     "name": "stdout",
     "output_type": "stream",
     "text": [
      "Before : (271379, 5)\n",
      "After : (271376, 5)\n"
     ]
    }
   ],
   "source": [
    "# 2.Clean up NaN values\n",
    "\n",
    "print('Before : ' + str(books.shape))\n",
    "# Identify the variables with null values\n",
    "books.isna().any()\n",
    "\n",
    "# Missing value treatment\n",
    "# Remove the records having NaN values are null\n",
    "\n",
    "books = books.dropna(subset=['book_author','publisher'])\n",
    "books = books.reset_index(drop=True)\n",
    "\n",
    "print('After : ' + str(books.shape))\n",
    "\n",
    "\n"
   ]
  },
  {
   "cell_type": "code",
   "execution_count": 43,
   "metadata": {},
   "outputs": [
    {
     "name": "stdout",
     "output_type": "stream",
     "text": [
      "Before : (278859, 3)\n",
      "After : (278859, 2)\n"
     ]
    },
    {
     "name": "stderr",
     "output_type": "stream",
     "text": [
      "/usr/local/lib/python3.7/site-packages/IPython/core/interactiveshell.py:3063: DtypeWarning: Columns (0) have mixed types.Specify dtype option on import or set low_memory=False.\n",
      "  interactivity=interactivity, compiler=compiler, result=result)\n"
     ]
    }
   ],
   "source": [
    "# Import and Process the Users table\n",
    "\n",
    "users = pd.read_csv(\"BX-Users.csv\", encoding='iso-8859-1')\n",
    "\n",
    "print('Before : ' + str(users.shape))\n",
    "# Dropping Age column since almost half the netries here are Nan\n",
    "# Replacing the NaN values wwith average value and using it to train\n",
    "# the classifies would be pointless\n",
    "\n",
    "users = users.drop(['Age'], axis=1)\n",
    "\n",
    "# Removing Nan Location values from table\n",
    "users.dropna(subset=['Location'])\n",
    "users = users.reset_index(drop=True)\n",
    "\n",
    "print('After : ' + str(users.shape))\n"
   ]
  },
  {
   "cell_type": "code",
   "execution_count": 44,
   "metadata": {},
   "outputs": [
    {
     "name": "stdout",
     "output_type": "stream",
     "text": [
      "(1048575, 3)\n"
     ]
    },
    {
     "data": {
      "text/html": [
       "<div>\n",
       "<style scoped>\n",
       "    .dataframe tbody tr th:only-of-type {\n",
       "        vertical-align: middle;\n",
       "    }\n",
       "\n",
       "    .dataframe tbody tr th {\n",
       "        vertical-align: top;\n",
       "    }\n",
       "\n",
       "    .dataframe thead th {\n",
       "        text-align: right;\n",
       "    }\n",
       "</style>\n",
       "<table border=\"1\" class=\"dataframe\">\n",
       "  <thead>\n",
       "    <tr style=\"text-align: right;\">\n",
       "      <th></th>\n",
       "      <th>user_id</th>\n",
       "      <th>isbn</th>\n",
       "      <th>rating</th>\n",
       "    </tr>\n",
       "  </thead>\n",
       "  <tbody>\n",
       "    <tr>\n",
       "      <th>0</th>\n",
       "      <td>276725</td>\n",
       "      <td>034545104X</td>\n",
       "      <td>0</td>\n",
       "    </tr>\n",
       "    <tr>\n",
       "      <th>1</th>\n",
       "      <td>276726</td>\n",
       "      <td>155061224</td>\n",
       "      <td>5</td>\n",
       "    </tr>\n",
       "    <tr>\n",
       "      <th>2</th>\n",
       "      <td>276727</td>\n",
       "      <td>446520802</td>\n",
       "      <td>0</td>\n",
       "    </tr>\n",
       "    <tr>\n",
       "      <th>3</th>\n",
       "      <td>276729</td>\n",
       "      <td>052165615X</td>\n",
       "      <td>3</td>\n",
       "    </tr>\n",
       "    <tr>\n",
       "      <th>4</th>\n",
       "      <td>276729</td>\n",
       "      <td>521795028</td>\n",
       "      <td>6</td>\n",
       "    </tr>\n",
       "  </tbody>\n",
       "</table>\n",
       "</div>"
      ],
      "text/plain": [
       "   user_id        isbn  rating\n",
       "0   276725  034545104X       0\n",
       "1   276726   155061224       5\n",
       "2   276727   446520802       0\n",
       "3   276729  052165615X       3\n",
       "4   276729   521795028       6"
      ]
     },
     "execution_count": 44,
     "metadata": {},
     "output_type": "execute_result"
    }
   ],
   "source": [
    "# 3.Read the data where ratings are given by users\n",
    "\n",
    "# Import the dataset\n",
    "book_ratings = pd.read_csv(\"BX-Book-Ratings.csv\", encoding='iso-8859-1')\n",
    "\n",
    "# Print the columns of the DataFrame\n",
    "book_ratings.dtypes\n",
    "\n",
    "# Identify the shape of the dataset\n",
    "print(str(book_ratings.shape))\n",
    "\n",
    "# Cleaning up NaN value entries\n",
    "book_ratings.dropna()\n",
    "book_ratings = book_ratings.reset_index(drop=True)\n",
    "\n",
    "# Visualize the dataset\n",
    "book_ratings.head()"
   ]
  },
  {
   "cell_type": "code",
   "execution_count": 45,
   "metadata": {},
   "outputs": [
    {
     "name": "stdout",
     "output_type": "stream",
     "text": [
      "User_id : (95513,)\n",
      "ISBN : (322102,)\n"
     ]
    }
   ],
   "source": [
    "# 4. Take a quick look at the number of unique users and books\n",
    "\n",
    "user_id_arr = book_ratings.user_id.unique()\n",
    "print('User_id : ' +  str(user_id_arr.shape))\n",
    "book_isbn_arr = book_ratings.isbn.unique()\n",
    "print('ISBN : ' + str(book_isbn_arr.shape))"
   ]
  },
  {
   "cell_type": "code",
   "execution_count": 46,
   "metadata": {},
   "outputs": [
    {
     "name": "stdout",
     "output_type": "stream",
     "text": [
      "['440106575' '451157516' '048623715X' '486256588' '515069434']\n",
      "['440106575' '451157516' '048623715' '486256588' '515069434']\n"
     ]
    }
   ],
   "source": [
    "# 5. Convert ISBN variables to numeric numbers in the correct order\n",
    "\n",
    "# Function to remove non-numeric characters from ISBM numbers\n",
    "def convertToNumeric(inputStr):\n",
    "    outputStr = ''\n",
    "    for i in inputStr:\n",
    "        if i.isdigit():\n",
    "            outputStr += i\n",
    "            \n",
    "    return outputStr\n",
    "\n",
    "print(book_ratings.isbn.unique()[-5:])\n",
    "book_ratings['isbn'] = book_ratings['isbn'].apply(convertToNumeric)\n",
    "print(book_ratings.isbn.unique()[-5:])"
   ]
  },
  {
   "cell_type": "code",
   "execution_count": 47,
   "metadata": {},
   "outputs": [],
   "source": [
    "# 6. Convert the user_id variable to numeric numbers in the correct order\n",
    "\n",
    "book_ratings[\"user_id\"] = pd.to_numeric(book_ratings[\"user_id\"])\n"
   ]
  },
  {
   "cell_type": "code",
   "execution_count": 48,
   "metadata": {},
   "outputs": [
    {
     "data": {
      "text/plain": [
       "11676     13602\n",
       "198711     7550\n",
       "153662     6109\n",
       "98391      5891\n",
       "35859      5850\n",
       "          ...  \n",
       "94504         1\n",
       "59675         1\n",
       "41234         1\n",
       "45509         1\n",
       "59078         1\n",
       "Name: user_id, Length: 95513, dtype: int64"
      ]
     },
     "execution_count": 48,
     "metadata": {},
     "output_type": "execute_result"
    }
   ],
   "source": [
    "# 7. Convert both user_id and ISBN to the ordered list, i.e., from 0...n-1\n",
    "\n",
    "book_ratings.head()\n",
    "\n",
    "book_ratings.sort_values(by=['isbn'])\n",
    "book_ratings.sort_values(by=['user_id'])\n",
    "\n",
    "book_ratings.user_id.value_counts()"
   ]
  },
  {
   "cell_type": "code",
   "execution_count": 49,
   "metadata": {},
   "outputs": [
    {
     "data": {
      "text/html": [
       "<div>\n",
       "<style scoped>\n",
       "    .dataframe tbody tr th:only-of-type {\n",
       "        vertical-align: middle;\n",
       "    }\n",
       "\n",
       "    .dataframe tbody tr th {\n",
       "        vertical-align: top;\n",
       "    }\n",
       "\n",
       "    .dataframe thead th {\n",
       "        text-align: right;\n",
       "    }\n",
       "</style>\n",
       "<table border=\"1\" class=\"dataframe\">\n",
       "  <thead>\n",
       "    <tr style=\"text-align: right;\">\n",
       "      <th></th>\n",
       "      <th>user_id</th>\n",
       "      <th>isbn</th>\n",
       "      <th>rating</th>\n",
       "      <th>Location</th>\n",
       "      <th>book_title</th>\n",
       "      <th>book_author</th>\n",
       "      <th>year_of_publication</th>\n",
       "      <th>publisher</th>\n",
       "    </tr>\n",
       "  </thead>\n",
       "  <tbody>\n",
       "    <tr>\n",
       "      <th>0</th>\n",
       "      <td>2</td>\n",
       "      <td>195153448</td>\n",
       "      <td>0</td>\n",
       "      <td>stockton, california, usa</td>\n",
       "      <td>Classical Mythology</td>\n",
       "      <td>Mark P. O. Morford</td>\n",
       "      <td>2002</td>\n",
       "      <td>Oxford University Press</td>\n",
       "    </tr>\n",
       "    <tr>\n",
       "      <th>1</th>\n",
       "      <td>8</td>\n",
       "      <td>2005018</td>\n",
       "      <td>5</td>\n",
       "      <td>timmins, ontario, canada</td>\n",
       "      <td>Clara Callan</td>\n",
       "      <td>Richard Bruce Wright</td>\n",
       "      <td>2001</td>\n",
       "      <td>HarperFlamingo Canada</td>\n",
       "    </tr>\n",
       "    <tr>\n",
       "      <th>2</th>\n",
       "      <td>11400</td>\n",
       "      <td>2005018</td>\n",
       "      <td>0</td>\n",
       "      <td>ottawa, ontario, canada</td>\n",
       "      <td>Clara Callan</td>\n",
       "      <td>Richard Bruce Wright</td>\n",
       "      <td>2001</td>\n",
       "      <td>HarperFlamingo Canada</td>\n",
       "    </tr>\n",
       "    <tr>\n",
       "      <th>3</th>\n",
       "      <td>11676</td>\n",
       "      <td>2005018</td>\n",
       "      <td>8</td>\n",
       "      <td>n/a, n/a, n/a</td>\n",
       "      <td>Clara Callan</td>\n",
       "      <td>Richard Bruce Wright</td>\n",
       "      <td>2001</td>\n",
       "      <td>HarperFlamingo Canada</td>\n",
       "    </tr>\n",
       "    <tr>\n",
       "      <th>4</th>\n",
       "      <td>41385</td>\n",
       "      <td>2005018</td>\n",
       "      <td>0</td>\n",
       "      <td>sudbury, ontario, canada</td>\n",
       "      <td>Clara Callan</td>\n",
       "      <td>Richard Bruce Wright</td>\n",
       "      <td>2001</td>\n",
       "      <td>HarperFlamingo Canada</td>\n",
       "    </tr>\n",
       "  </tbody>\n",
       "</table>\n",
       "</div>"
      ],
      "text/plain": [
       "  user_id       isbn  rating                   Location           book_title  \\\n",
       "0       2  195153448       0  stockton, california, usa  Classical Mythology   \n",
       "1       8    2005018       5   timmins, ontario, canada         Clara Callan   \n",
       "2   11400    2005018       0    ottawa, ontario, canada         Clara Callan   \n",
       "3   11676    2005018       8              n/a, n/a, n/a         Clara Callan   \n",
       "4   41385    2005018       0   sudbury, ontario, canada         Clara Callan   \n",
       "\n",
       "            book_author  year_of_publication                publisher  \n",
       "0    Mark P. O. Morford                 2002  Oxford University Press  \n",
       "1  Richard Bruce Wright                 2001    HarperFlamingo Canada  \n",
       "2  Richard Bruce Wright                 2001    HarperFlamingo Canada  \n",
       "3  Richard Bruce Wright                 2001    HarperFlamingo Canada  \n",
       "4  Richard Bruce Wright                 2001    HarperFlamingo Canada  "
      ]
     },
     "execution_count": 49,
     "metadata": {},
     "output_type": "execute_result"
    }
   ],
   "source": [
    "# 8. Re-index the columns to build a matrix\n",
    "\n",
    "# Merge book_ratings and users dataframe based on user_id column\n",
    "# based on the user_ids present in book_ratings dataframe\n",
    "final_book_df = pd.merge(book_ratings,users,on=['user_id'],how=\"inner\")\n",
    "\n",
    "# Merge book_ratings and books dataframe based on isbn column\n",
    "# based on the isbn present in book_ratings dataframe\n",
    "final_book_df = pd.merge(final_book_df,books,on=['isbn'],how=\"inner\")\n",
    "\n",
    "final_book_df.head()"
   ]
  },
  {
   "cell_type": "code",
   "execution_count": 50,
   "metadata": {},
   "outputs": [
    {
     "name": "stdout",
     "output_type": "stream",
     "text": [
      "(855865, 8)\n",
      "(855865, 5)\n"
     ]
    }
   ],
   "source": [
    "final_book_df.isna().any()\n",
    "print(str(final_book_df.shape))\n",
    "\n",
    "# Dropping user_id, isbn and book title columns since they\n",
    "# do not play any role in training the classifier\n",
    "final_book_df = final_book_df.drop(['user_id','isbn','book_title'], axis=1)\n",
    "print(str(final_book_df.shape))"
   ]
  },
  {
   "cell_type": "code",
   "execution_count": 51,
   "metadata": {},
   "outputs": [
    {
     "name": "stdout",
     "output_type": "stream",
     "text": [
      "rating                                        8\n",
      "Location               toronto, ontario, canada\n",
      "book_author                Richard Bruce Wright\n",
      "year_of_publication                        2001\n",
      "publisher                 HarperFlamingo Canada\n",
      "Name: 5, dtype: object\n",
      "rating                                        1\n",
      "Location               toronto, ontario, canada\n",
      "book_author                Richard Bruce Wright\n",
      "year_of_publication                        2001\n",
      "publisher                 HarperFlamingo Canada\n",
      "Name: 5, dtype: object\n"
     ]
    }
   ],
   "source": [
    "def editRating(num):\n",
    "    output = 0\n",
    "    \n",
    "    if num > 5:\n",
    "        output = 1\n",
    "    else:\n",
    "        output = 0\n",
    "        \n",
    "    return output\n",
    "print(final_book_df.iloc[5])\n",
    "final_book_df['rating'] = final_book_df['rating'].apply(editRating)\n",
    "print(final_book_df.iloc[5])"
   ]
  },
  {
   "cell_type": "code",
   "execution_count": 52,
   "metadata": {},
   "outputs": [],
   "source": [
    "# Coverting all values of locations to numeric\n",
    "# for Logistic regression\n",
    "arr1 = final_book_df.Location.unique()\n",
    "ht1 = {}\n",
    "for i in range(len(arr1)):\n",
    "    ht1[arr1[i]] = i\n",
    "def editLocation(loc):\n",
    "    return ht1[loc]\n",
    "final_book_df['Location'] = final_book_df['Location'].apply(editLocation)"
   ]
  },
  {
   "cell_type": "code",
   "execution_count": 53,
   "metadata": {},
   "outputs": [],
   "source": [
    "# Coverting all values of Book suthors to numeric\n",
    "# for Logistic regression\n",
    "arr2 = final_book_df.book_author.unique()\n",
    "ht2 = {}\n",
    "for i in range(len(arr2)):\n",
    "    ht2[arr2[i]] = i\n",
    "def editAuthor(author):\n",
    "    return ht2[author]\n",
    "final_book_df['book_author'] = final_book_df['book_author'].apply(editAuthor)"
   ]
  },
  {
   "cell_type": "code",
   "execution_count": 54,
   "metadata": {},
   "outputs": [],
   "source": [
    "# Coverting all values of publishers to numeric\n",
    "# for Logistic regression\n",
    "arr3 = final_book_df.publisher.unique()\n",
    "ht3 = {}\n",
    "for i in range(len(arr3)):\n",
    "    ht3[arr3[i]] = i\n",
    "def editPublisher(publisher):\n",
    "    return ht3[publisher]\n",
    "final_book_df['publisher'] = final_book_df['publisher'].apply(editPublisher)"
   ]
  },
  {
   "cell_type": "code",
   "execution_count": 55,
   "metadata": {},
   "outputs": [
    {
     "data": {
      "text/plain": [
       "rating                 int64\n",
       "Location               int64\n",
       "book_author            int64\n",
       "year_of_publication    int64\n",
       "publisher              int64\n",
       "dtype: object"
      ]
     },
     "execution_count": 55,
     "metadata": {},
     "output_type": "execute_result"
    }
   ],
   "source": [
    "final_book_df.dtypes"
   ]
  },
  {
   "cell_type": "code",
   "execution_count": 31,
   "metadata": {},
   "outputs": [
    {
     "name": "stdout",
     "output_type": "stream",
     "text": [
      "(599105, 4)\n",
      "(256760, 4)\n",
      "(599105,)\n",
      "(256760,)\n"
     ]
    }
   ],
   "source": [
    "# 9. Split your data into two sets (training and testing)\n",
    "\n",
    "# Collecting features which are useful for training classifier\n",
    "used_features =[\n",
    "    \"Location\",\n",
    "    \"book_author\",\n",
    "    \"year_of_publication\",\n",
    "    \"publisher\"\n",
    "]\n",
    "\n",
    "X = final_book_df[used_features].values\n",
    "y = final_book_df['rating']\n",
    "\n",
    "# Split dataset in training and test datasets\n",
    "X_train, X_test, y_train, y_test = train_test_split(X, y, test_size=0.3, random_state=11)\n",
    "\n",
    "print(X_train.shape)\n",
    "print(X_test.shape)\n",
    "print(y_train.shape)\n",
    "print(y_test.shape)\n",
    "\n"
   ]
  },
  {
   "cell_type": "code",
   "execution_count": 32,
   "metadata": {},
   "outputs": [],
   "source": [
    "# 10. Make predictions based on user and item variables\n",
    "\n",
    "# Instantiate the classifier\n",
    "LogReg = LogisticRegression()\n",
    "\n",
    "# Train classifier\n",
    "LogReg.fit(X_train, y_train)\n",
    "\n",
    "y_pred = LogReg.predict(X_test)\n"
   ]
  },
  {
   "cell_type": "code",
   "execution_count": 33,
   "metadata": {},
   "outputs": [
    {
     "name": "stdout",
     "output_type": "stream",
     "text": [
      "[[171906   4123]\n",
      " [ 77620   3111]]\n",
      "0.6816365477488705\n",
      "0.31836345225112944\n"
     ]
    }
   ],
   "source": [
    "# 11. Use RMSE to evaluate the predictions\n",
    "\n",
    "print(metrics.confusion_matrix(y_test, y_pred))\n",
    "print(metrics.accuracy_score(y_test, y_pred))\n",
    "print(metrics.mean_squared_error(y_test, y_pred))"
   ]
  },
  {
   "cell_type": "code",
   "execution_count": null,
   "metadata": {},
   "outputs": [],
   "source": []
  }
 ],
 "metadata": {
  "kernelspec": {
   "display_name": "Python 3",
   "language": "python",
   "name": "python3"
  },
  "language_info": {
   "codemirror_mode": {
    "name": "ipython",
    "version": 3
   },
   "file_extension": ".py",
   "mimetype": "text/x-python",
   "name": "python",
   "nbconvert_exporter": "python",
   "pygments_lexer": "ipython3",
   "version": "3.7.6"
  }
 },
 "nbformat": 4,
 "nbformat_minor": 4
}
